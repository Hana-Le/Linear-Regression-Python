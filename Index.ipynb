{
 "cells": [
  {
   "cell_type": "markdown",
   "id": "f7518e5d-ee31-4aad-b259-591c378fefd4",
   "metadata": {},
   "source": [
    "<h1 style =\"font-size:2.2rem;color:orange;\">Classical Linear Regression using Python with Scikit-Learn</h1>"
   ]
  },
  {
   "cell_type": "markdown",
   "id": "b86de630-1985-42bf-86df-aa49c33327f8",
   "metadata": {},
   "source": [
    "Hey there! As an R user, I'm excited to be diving into the world of Python and what better way to start than with a classic linear regression example. This is my 1st notebook using JupyterLab and Python. In this notebook, I'll be showcasing my newlearnt Python skills by analyzing the BMD_baseline dataset which has both numeric and catgorical variables.\n",
    "\n",
    "This dataset is information about 566 women who participated in a clinical trial of hormone replacement therapy. The goal is to uncover the relationship between their bone mineral density (BMD), age, and body mass index (BMI) - all factors that play a role in affecting BMD.\n",
    "\n",
    "So, if you're afellow R user like me, or just curious about classical linear regression in general, join me on this journey as we uncover insights and have a little fun along the way!"
   ]
  },
  {
   "cell_type": "markdown",
   "id": "83902608-1f3e-4cab-aaed-16774956ea98",
   "metadata": {},
   "source": [
    "## Why learning linear regression ?\n",
    "Linear regression is the most simple ‘Machine Learning’ and important algorithms.\n",
    "- serves as the foundation for more advanced statistical techniques\n",
    "- widely used in various fields like economics, finance, biology, and engineering, to mention a few\n",
    "- easy to use "
   ]
  },
  {
   "cell_type": "markdown",
   "id": "d22f9215-ec13-4586-844e-d514916290f9",
   "metadata": {},
   "source": [
    "#### In this notebook, I will talk about\n",
    "1. Importing libraries and the data\n",
    "2. Data exploratation \n",
    "3. Modelling\n",
    "4. Model fit and diagnostic checking\n",
    "5. Conclusion (for an R user)"
   ]
  },
  {
   "cell_type": "markdown",
   "id": "c222cf1a-42eb-49c6-9049-fd16af590e86",
   "metadata": {},
   "source": [
    "## Importing libraries and the data"
   ]
  },
  {
   "cell_type": "code",
   "execution_count": 124,
   "id": "8d7b7576-7c3c-4666-b014-1feaeea05efa",
   "metadata": {},
   "outputs": [],
   "source": [
    "# import libraries\n",
    "import pandas as pd\n",
    "import numpy as np\n",
    "import seaborn as sns\n",
    "from sklearn.linear_model import LinearRegression\n",
    "import matplotlib.pyplot as plt\n",
    "from scipy import stats\n",
    "import warnings # keep Notebook clean\n",
    "warnings.filterwarnings('ignore')"
   ]
  },
  {
   "cell_type": "code",
   "execution_count": 110,
   "id": "4a5253ae-d909-4cdf-afaf-a924c8231c45",
   "metadata": {},
   "outputs": [
    {
     "data": {
      "text/html": [
       "<div>\n",
       "<style scoped>\n",
       "    .dataframe tbody tr th:only-of-type {\n",
       "        vertical-align: middle;\n",
       "    }\n",
       "\n",
       "    .dataframe tbody tr th {\n",
       "        vertical-align: top;\n",
       "    }\n",
       "\n",
       "    .dataframe thead th {\n",
       "        text-align: right;\n",
       "    }\n",
       "</style>\n",
       "<table border=\"1\" class=\"dataframe\">\n",
       "  <thead>\n",
       "    <tr style=\"text-align: right;\">\n",
       "      <th></th>\n",
       "      <th>SUBJ</th>\n",
       "      <th>MONTH</th>\n",
       "      <th>GROUP</th>\n",
       "      <th>BMD</th>\n",
       "      <th>SMOKING</th>\n",
       "      <th>HRT</th>\n",
       "      <th>BMI</th>\n",
       "      <th>YRS</th>\n",
       "      <th>AGE</th>\n",
       "      <th>bmi.cat</th>\n",
       "    </tr>\n",
       "  </thead>\n",
       "  <tbody>\n",
       "    <tr>\n",
       "      <th>0</th>\n",
       "      <td>1</td>\n",
       "      <td>99</td>\n",
       "      <td>2</td>\n",
       "      <td>0.78</td>\n",
       "      <td>3</td>\n",
       "      <td>NO</td>\n",
       "      <td>26.850816</td>\n",
       "      <td>1.750000</td>\n",
       "      <td>53</td>\n",
       "      <td>3</td>\n",
       "    </tr>\n",
       "    <tr>\n",
       "      <th>1</th>\n",
       "      <td>2</td>\n",
       "      <td>99</td>\n",
       "      <td>2</td>\n",
       "      <td>0.90</td>\n",
       "      <td>1</td>\n",
       "      <td>NO</td>\n",
       "      <td>24.221453</td>\n",
       "      <td>1.166667</td>\n",
       "      <td>54</td>\n",
       "      <td>2</td>\n",
       "    </tr>\n",
       "    <tr>\n",
       "      <th>2</th>\n",
       "      <td>3</td>\n",
       "      <td>99</td>\n",
       "      <td>1</td>\n",
       "      <td>0.80</td>\n",
       "      <td>1</td>\n",
       "      <td>NO</td>\n",
       "      <td>19.631172</td>\n",
       "      <td>2.750000</td>\n",
       "      <td>58</td>\n",
       "      <td>2</td>\n",
       "    </tr>\n",
       "    <tr>\n",
       "      <th>3</th>\n",
       "      <td>4</td>\n",
       "      <td>99</td>\n",
       "      <td>3</td>\n",
       "      <td>0.79</td>\n",
       "      <td>2</td>\n",
       "      <td>NO</td>\n",
       "      <td>22.621843</td>\n",
       "      <td>2.916667</td>\n",
       "      <td>49</td>\n",
       "      <td>2</td>\n",
       "    </tr>\n",
       "    <tr>\n",
       "      <th>4</th>\n",
       "      <td>5</td>\n",
       "      <td>99</td>\n",
       "      <td>1</td>\n",
       "      <td>1.02</td>\n",
       "      <td>1</td>\n",
       "      <td>NO</td>\n",
       "      <td>21.049818</td>\n",
       "      <td>1.250000</td>\n",
       "      <td>46</td>\n",
       "      <td>2</td>\n",
       "    </tr>\n",
       "  </tbody>\n",
       "</table>\n",
       "</div>"
      ],
      "text/plain": [
       "   SUBJ  MONTH  GROUP   BMD  SMOKING HRT        BMI       YRS  AGE  bmi.cat\n",
       "0     1     99      2  0.78        3  NO  26.850816  1.750000   53        3\n",
       "1     2     99      2  0.90        1  NO  24.221453  1.166667   54        2\n",
       "2     3     99      1  0.80        1  NO  19.631172  2.750000   58        2\n",
       "3     4     99      3  0.79        2  NO  22.621843  2.916667   49        2\n",
       "4     5     99      1  1.02        1  NO  21.049818  1.250000   46        2"
      ]
     },
     "execution_count": 110,
     "metadata": {},
     "output_type": "execute_result"
    }
   ],
   "source": [
    "# read data\n",
    "bmd_data = pd.read_csv('bmd.baseline.csv')\n",
    "bmd_data.head() # first 5 cases"
   ]
  },
  {
   "cell_type": "markdown",
   "id": "dedfac09-554c-4751-b5de-61bdab3b84bd",
   "metadata": {},
   "source": [
    "Oops, it would be better if column names are lower-case."
   ]
  },
  {
   "cell_type": "code",
   "execution_count": 111,
   "id": "0ab02880-9eb1-4cfa-be0e-a59224928e04",
   "metadata": {},
   "outputs": [
    {
     "data": {
      "text/html": [
       "<div>\n",
       "<style scoped>\n",
       "    .dataframe tbody tr th:only-of-type {\n",
       "        vertical-align: middle;\n",
       "    }\n",
       "\n",
       "    .dataframe tbody tr th {\n",
       "        vertical-align: top;\n",
       "    }\n",
       "\n",
       "    .dataframe thead th {\n",
       "        text-align: right;\n",
       "    }\n",
       "</style>\n",
       "<table border=\"1\" class=\"dataframe\">\n",
       "  <thead>\n",
       "    <tr style=\"text-align: right;\">\n",
       "      <th></th>\n",
       "      <th>subj</th>\n",
       "      <th>month</th>\n",
       "      <th>group</th>\n",
       "      <th>bmd</th>\n",
       "      <th>smoking</th>\n",
       "      <th>hrt</th>\n",
       "      <th>bmi</th>\n",
       "      <th>yrs</th>\n",
       "      <th>age</th>\n",
       "      <th>bmi.cat</th>\n",
       "    </tr>\n",
       "  </thead>\n",
       "  <tbody>\n",
       "    <tr>\n",
       "      <th>0</th>\n",
       "      <td>1</td>\n",
       "      <td>99</td>\n",
       "      <td>2</td>\n",
       "      <td>0.78</td>\n",
       "      <td>3</td>\n",
       "      <td>NO</td>\n",
       "      <td>26.850816</td>\n",
       "      <td>1.750000</td>\n",
       "      <td>53</td>\n",
       "      <td>3</td>\n",
       "    </tr>\n",
       "    <tr>\n",
       "      <th>1</th>\n",
       "      <td>2</td>\n",
       "      <td>99</td>\n",
       "      <td>2</td>\n",
       "      <td>0.90</td>\n",
       "      <td>1</td>\n",
       "      <td>NO</td>\n",
       "      <td>24.221453</td>\n",
       "      <td>1.166667</td>\n",
       "      <td>54</td>\n",
       "      <td>2</td>\n",
       "    </tr>\n",
       "    <tr>\n",
       "      <th>2</th>\n",
       "      <td>3</td>\n",
       "      <td>99</td>\n",
       "      <td>1</td>\n",
       "      <td>0.80</td>\n",
       "      <td>1</td>\n",
       "      <td>NO</td>\n",
       "      <td>19.631172</td>\n",
       "      <td>2.750000</td>\n",
       "      <td>58</td>\n",
       "      <td>2</td>\n",
       "    </tr>\n",
       "    <tr>\n",
       "      <th>3</th>\n",
       "      <td>4</td>\n",
       "      <td>99</td>\n",
       "      <td>3</td>\n",
       "      <td>0.79</td>\n",
       "      <td>2</td>\n",
       "      <td>NO</td>\n",
       "      <td>22.621843</td>\n",
       "      <td>2.916667</td>\n",
       "      <td>49</td>\n",
       "      <td>2</td>\n",
       "    </tr>\n",
       "    <tr>\n",
       "      <th>4</th>\n",
       "      <td>5</td>\n",
       "      <td>99</td>\n",
       "      <td>1</td>\n",
       "      <td>1.02</td>\n",
       "      <td>1</td>\n",
       "      <td>NO</td>\n",
       "      <td>21.049818</td>\n",
       "      <td>1.250000</td>\n",
       "      <td>46</td>\n",
       "      <td>2</td>\n",
       "    </tr>\n",
       "  </tbody>\n",
       "</table>\n",
       "</div>"
      ],
      "text/plain": [
       "   subj  month  group   bmd  smoking hrt        bmi       yrs  age  bmi.cat\n",
       "0     1     99      2  0.78        3  NO  26.850816  1.750000   53        3\n",
       "1     2     99      2  0.90        1  NO  24.221453  1.166667   54        2\n",
       "2     3     99      1  0.80        1  NO  19.631172  2.750000   58        2\n",
       "3     4     99      3  0.79        2  NO  22.621843  2.916667   49        2\n",
       "4     5     99      1  1.02        1  NO  21.049818  1.250000   46        2"
      ]
     },
     "execution_count": 111,
     "metadata": {},
     "output_type": "execute_result"
    }
   ],
   "source": [
    "bmd_data.columns = bmd_data.columns.str.lower()\n",
    "bmd_data.head()"
   ]
  },
  {
   "cell_type": "markdown",
   "id": "c0f14f2b-e3e5-44dc-b28b-e99c3c89cdc7",
   "metadata": {},
   "source": [
    "The bmi_cat column in the data represents a categorical variable that indicates the body mass index (BMI) category of an individual. The categories are defined as follows:\n",
    "\n",
    "- 1: underweight (BMI < 18.5)\n",
    "- 2: normal (BMI between 18.5 and 24.9)\n",
    "- 3: overweight (BMI between 25 and 29.9)\n",
    "- 4: obese (BMI ≥ 30)"
   ]
  },
  {
   "cell_type": "markdown",
   "id": "cbd22a77-f6e4-4651-87ad-edebff94d574",
   "metadata": {},
   "source": [
    "As mentioned above, the goal is to uncover the relationship between their bone mineral density (BMD), age, and body mass index (BMI) - all factors that play a role in affecting BMD. The reponse variable (also known as the dependent variable) in this case is BMD and the predictor variables (also known as independent variables or features) are age and BMI."
   ]
  },
  {
   "cell_type": "markdown",
   "id": "38d42aad-cb5f-4d8e-bd8b-6eb176b1cc1c",
   "metadata": {},
   "source": [
    "## Data Exploration"
   ]
  },
  {
   "cell_type": "markdown",
   "id": "8a9d8711-9278-4bfe-afb2-945759e9cb30",
   "metadata": {},
   "source": [
    "Before embarking on modelling, we always examine data graphically and numerically. We  firstly look at the frequency table of BMI category:"
   ]
  },
  {
   "cell_type": "code",
   "execution_count": 113,
   "id": "ef047e94-a274-4913-a4a3-90976d2ca752",
   "metadata": {},
   "outputs": [
    {
     "data": {
      "text/plain": [
       "2    294\n",
       "3    190\n",
       "4     81\n",
       "1      1\n",
       "Name: bmi.cat, dtype: int64"
      ]
     },
     "execution_count": 113,
     "metadata": {},
     "output_type": "execute_result"
    }
   ],
   "source": [
    "bmi_cat_frequency = bmd_data['bmi.cat'].value_counts()\n",
    "bmi_cat_frequency"
   ]
  },
  {
   "cell_type": "markdown",
   "id": "7150014e-8634-43f3-8ab4-daff71700271",
   "metadata": {},
   "source": [
    "We can see the underweight category (bmi.cat = 1) is not viable with only one observation. It would be better to combine it with the normal category (bmi.cat = 2) for analysis."
   ]
  },
  {
   "cell_type": "code",
   "execution_count": 123,
   "id": "173d3ec6-1dc7-42de-8cbb-bc1664c1e2ad",
   "metadata": {},
   "outputs": [
    {
     "data": {
      "text/plain": [
       "2    295\n",
       "3    190\n",
       "4     81\n",
       "Name: bmi_cat2, dtype: int64"
      ]
     },
     "execution_count": 123,
     "metadata": {},
     "output_type": "execute_result"
    }
   ],
   "source": [
    "bmd_data['bmi_cat2'] = np.where(bmd_data['bmi.cat'] == 1, 2, bmd_data['bmi.cat'])\n",
    "# This code creates a new column called bmi_cat2 and checks the values of bmi_cat column. \n",
    "# If the value is 1, it replaces it with 2, otherwise, it keeps the original value in the bmi_cat column.\n",
    "bmd_data['bmi_cat2'].value_counts()"
   ]
  },
  {
   "cell_type": "markdown",
   "id": "56f7d5c2-6487-49c6-8aee-6faa96f39788",
   "metadata": {},
   "source": [
    "Because bmi_cat2 is categorical and BMD is continuous, we construct boxplots of BMD against bmi_cat2, and a scatterplot of BMD against age."
   ]
  },
  {
   "cell_type": "code",
   "execution_count": 115,
   "id": "e7ff0903-abe2-46de-a241-39faa88ee56a",
   "metadata": {},
   "outputs": [
    {
     "data": {
      "text/plain": [
       "<AxesSubplot:xlabel='bmi_cat2', ylabel='bmd'>"
      ]
     },
     "execution_count": 115,
     "metadata": {},
     "output_type": "execute_result"
    },
    {
     "data": {
      "image/png": "[encoded data removed]",
      "text/plain": [
       "<Figure size 432x288 with 1 Axes>"
      ]
     },
     "metadata": {
      "needs_background": "light"
     },
     "output_type": "display_data"
    }
   ],
   "source": [
    "# visualize the relationship between the predictors and the response using booxplot and scatterplot\n",
    "\n",
    "sns.boxplot(x='bmi_cat2', y='bmd', data=bmd_data)"
   ]
  },
  {
   "cell_type": "code",
   "execution_count": 116,
   "id": "648aa101-4bc8-4154-81bf-b09f3300d74a",
   "metadata": {
    "tags": []
   },
   "outputs": [
    {
     "data": {
      "text/plain": [
       "<AxesSubplot:xlabel='age', ylabel='bmd'>"
      ]
     },
     "execution_count": 116,
     "metadata": {},
     "output_type": "execute_result"
    },
    {
     "data": {
      "image/png": "[encoded data removed]",
      "text/plain": [
       "<Figure size 432x288 with 1 Axes>"
      ]
     },
     "metadata": {
      "needs_background": "light"
     },
     "output_type": "display_data"
    }
   ],
   "source": [
    "sns.regplot(x='age', y='bmd', data=bmd_data)"
   ]
  },
  {
   "cell_type": "markdown",
   "id": "9d3910bf-b48f-47bc-a82b-4a1567945cd9",
   "metadata": {},
   "source": [
    "We see a trend of increasing BMD with increasing BMI category, i.e. women with higher BMI tend to have higher BMD. The BMD-age relationship is much weaker, but there is a small negative trend (i.e. BMD decreases with increasing age)."
   ]
  },
  {
   "cell_type": "markdown",
   "id": "c9db26d3-9acc-4bef-8400-c8f47dbcf12f",
   "metadata": {},
   "source": [
    "## Modelling"
   ]
  },
  {
   "cell_type": "markdown",
   "id": "bd4674fb-a2f9-4cfc-89ee-b969337f2832",
   "metadata": {},
   "source": [
    "We specify the model:\n",
    "    $$Y_i = \\beta_0 + \\beta_2z_{i3} + \\beta_3z_{i4} + \\beta_{age}x_i +\\epsilon_i$$\n",
    "    \n"
   ]
  },
  {
   "cell_type": "markdown",
   "id": "ff700828-d236-431b-b234-b8428fe99e24",
   "metadata": {},
   "source": [
    "Where \n",
    "\n",
    "$Y_i$= BMD of $i$th subject, in $g/cm^2$"
   ]
  },
  {
   "cell_type": "markdown",
   "id": "ffc905be-0e29-472a-9cf4-6c7ddc9acb74",
   "metadata": {},
   "source": [
    "$\n",
    "z_{i3} = \\left\\{\n",
    "    \\begin{array}\\\\\n",
    "        1 & \\mbox{if } \\ bmi.cat2 = 3 \\\\\n",
    "        0 & \\mbox{else.}\n",
    "    \\end{array}\n",
    "\\right.\n",
    "$"
   ]
  },
  {
   "cell_type": "markdown",
   "id": "06c95cfd-b05e-4f3a-ab8c-8d8032a04b73",
   "metadata": {},
   "source": [
    "$\n",
    "z_{i4} = \\left\\{\n",
    "    \\begin{array}\\\\\n",
    "        1 & \\mbox{if } \\ bmi.cat2 = 4 \\\\\n",
    "        0 & \\mbox{else.}\n",
    "    \\end{array}\n",
    "\\right.\n",
    "$"
   ]
  },
  {
   "cell_type": "markdown",
   "id": "8ea6ddeb-3382-4803-93d3-c8307560d0b6",
   "metadata": {},
   "source": [
    "$x_i$ = age of $i$th subject"
   ]
  },
  {
   "cell_type": "markdown",
   "id": "20df9b49-9caf-41ab-b447-25a0ad0adde6",
   "metadata": {},
   "source": [
    "Note that $\\beta_1$ is omitted in the output (It is identically zero) as bmi_cat = 2 is slected as reference. \n",
    "In python, the most frequent level is choosen as reference."
   ]
  },
  {
   "cell_type": "code",
   "execution_count": 117,
   "id": "1757f8a5-9108-423c-b1fb-ae2294069b8e",
   "metadata": {},
   "outputs": [
    {
     "data": {
      "text/html": [
       "<div>\n",
       "<style scoped>\n",
       "    .dataframe tbody tr th:only-of-type {\n",
       "        vertical-align: middle;\n",
       "    }\n",
       "\n",
       "    .dataframe tbody tr th {\n",
       "        vertical-align: top;\n",
       "    }\n",
       "\n",
       "    .dataframe thead th {\n",
       "        text-align: right;\n",
       "    }\n",
       "</style>\n",
       "<table border=\"1\" class=\"dataframe\">\n",
       "  <thead>\n",
       "    <tr style=\"text-align: right;\">\n",
       "      <th></th>\n",
       "      <th>age</th>\n",
       "      <th>bmi_cat2_3</th>\n",
       "      <th>bmi_cat2_4</th>\n",
       "    </tr>\n",
       "  </thead>\n",
       "  <tbody>\n",
       "    <tr>\n",
       "      <th>0</th>\n",
       "      <td>53</td>\n",
       "      <td>1</td>\n",
       "      <td>0</td>\n",
       "    </tr>\n",
       "    <tr>\n",
       "      <th>1</th>\n",
       "      <td>54</td>\n",
       "      <td>0</td>\n",
       "      <td>0</td>\n",
       "    </tr>\n",
       "    <tr>\n",
       "      <th>2</th>\n",
       "      <td>58</td>\n",
       "      <td>0</td>\n",
       "      <td>0</td>\n",
       "    </tr>\n",
       "    <tr>\n",
       "      <th>3</th>\n",
       "      <td>49</td>\n",
       "      <td>0</td>\n",
       "      <td>0</td>\n",
       "    </tr>\n",
       "    <tr>\n",
       "      <th>4</th>\n",
       "      <td>46</td>\n",
       "      <td>0</td>\n",
       "      <td>0</td>\n",
       "    </tr>\n",
       "  </tbody>\n",
       "</table>\n",
       "</div>"
      ],
      "text/plain": [
       "   age  bmi_cat2_3  bmi_cat2_4\n",
       "0   53           1           0\n",
       "1   54           0           0\n",
       "2   58           0           0\n",
       "3   49           0           0\n",
       "4   46           0           0"
      ]
     },
     "execution_count": 117,
     "metadata": {},
     "output_type": "execute_result"
    }
   ],
   "source": [
    "# Extract the predictors and response variables\n",
    "X = bmd_data[['bmi_cat2', 'age']]\n",
    "\n",
    "# bmi_cat2 is categorical variable, so we add dummy variables\n",
    "X = pd.get_dummies(data=X, columns=['bmi_cat2'], drop_first=True)\n",
    "X.head()"
   ]
  },
  {
   "cell_type": "code",
   "execution_count": 118,
   "id": "a5d159b9-bd13-49a2-a5be-2948804ee8b6",
   "metadata": {},
   "outputs": [
    {
     "data": {
      "text/html": [
       "<div>\n",
       "<style scoped>\n",
       "    .dataframe tbody tr th:only-of-type {\n",
       "        vertical-align: middle;\n",
       "    }\n",
       "\n",
       "    .dataframe tbody tr th {\n",
       "        vertical-align: top;\n",
       "    }\n",
       "\n",
       "    .dataframe thead th {\n",
       "        text-align: right;\n",
       "    }\n",
       "</style>\n",
       "<table border=\"1\" class=\"dataframe\">\n",
       "  <thead>\n",
       "    <tr style=\"text-align: right;\">\n",
       "      <th></th>\n",
       "      <th>Coefficient</th>\n",
       "    </tr>\n",
       "  </thead>\n",
       "  <tbody>\n",
       "    <tr>\n",
       "      <th>age</th>\n",
       "      <td>-0.005005</td>\n",
       "    </tr>\n",
       "    <tr>\n",
       "      <th>bmi_cat2_3</th>\n",
       "      <td>0.062756</td>\n",
       "    </tr>\n",
       "    <tr>\n",
       "      <th>bmi_cat2_4</th>\n",
       "      <td>0.101288</td>\n",
       "    </tr>\n",
       "  </tbody>\n",
       "</table>\n",
       "</div>"
      ],
      "text/plain": [
       "            Coefficient\n",
       "age           -0.005005\n",
       "bmi_cat2_3     0.062756\n",
       "bmi_cat2_4     0.101288"
      ]
     },
     "execution_count": 118,
     "metadata": {},
     "output_type": "execute_result"
    }
   ],
   "source": [
    "y = bmd_data['bmd']\n",
    "\n",
    "# Fit the linear regression model\n",
    "lm = LinearRegression().fit(X, y)\n",
    "\n",
    "# Print the coefficients\n",
    "coeff_parameter = pd.DataFrame(lm.coef_,X.columns,columns=['Coefficient'])\n",
    "coeff_parameter"
   ]
  },
  {
   "cell_type": "markdown",
   "id": "500c2336-7e12-4819-a66c-89779b7cb13d",
   "metadata": {
    "tags": []
   },
   "source": [
    "### Model interpretation\n",
    "  "
   ]
  },
  {
   "cell_type": "markdown",
   "id": "07804936-67c2-4da6-9760-9f26ec700001",
   "metadata": {},
   "source": [
    "   $$Y_i = \\beta_0 + \\beta_2z_{i3} + \\beta_3z_{i4} + \\beta_{age}x_i +\\epsilon_i$$"
   ]
  },
  {
   "cell_type": "markdown",
   "id": "937469d9-7258-4a08-9050-bcfdab3450b5",
   "metadata": {},
   "source": [
    "$$BMD = 1.077 + 0.062756 * z_{i3} + 0.101288 * z_{i4}  -0.005005 * age$$"
   ]
  },
  {
   "cell_type": "markdown",
   "id": "5a03bb16-d31a-4743-8b2c-dd7641eb64dc",
   "metadata": {},
   "source": [
    "This means that:\n",
    "\n",
    "- The effect of an increase in age of one year is a decrease in expected BMD of 0.005 g/cm2.\n",
    "- The effect of being overweight, compared with normal weight, is an increase in expected BMD of 0.063 g/cm2.\n",
    "- The e ect of being obese, compared with normal weight, is an increase in expected BMD of 0.101 g/cm2."
   ]
  },
  {
   "cell_type": "markdown",
   "id": "949094d2-2ab7-4719-a8bd-6dd9834234c2",
   "metadata": {},
   "source": [
    "### Using model for predictation"
   ]
  },
  {
   "cell_type": "markdown",
   "id": "0f5d9eed-c916-4f8c-b002-d4a76ecb6ba3",
   "metadata": {},
   "source": [
    "Let's say that there was a new observation where the age was 50 and bmi_cat was 3, what would we predict for the BMD in this case?"
   ]
  },
  {
   "cell_type": "code",
   "execution_count": 119,
   "id": "546410bd-d9d7-4882-9b8d-d5775ba31096",
   "metadata": {},
   "outputs": [
    {
     "data": {
      "text/plain": [
       "array([0.88966767])"
      ]
     },
     "execution_count": 119,
     "metadata": {},
     "output_type": "execute_result"
    }
   ],
   "source": [
    "X_new = pd.DataFrame({'age': [50], 'bmi_cat2_3': 1, 'bmi_cat2_4': 0})\n",
    "# use the model to make predictions on a new value\n",
    "lm.predict(X_new)"
   ]
  },
  {
   "cell_type": "markdown",
   "id": "eaf87b91-535b-4452-8982-9e4db1444b82",
   "metadata": {},
   "source": [
    "## Model fit and diagnostic checking"
   ]
  },
  {
   "cell_type": "markdown",
   "id": "bc4500bc-c6ff-4c22-a490-16250c7d673a",
   "metadata": {},
   "source": [
    "### Model fit"
   ]
  },
  {
   "cell_type": "markdown",
   "id": "56fe7c0c-57fb-4e43-87ac-b8d89fd5748a",
   "metadata": {},
   "source": [
    "The most common way to evaluate the overall fit of a linear model is by the R-squared value. R-squared is the proportion of variance explained, meaning the proportion of variance in the observed data that is explained by the model, or the reduction in error over the null model. (The null model just predicts the mean of the observed response, and thus it has an intercept and no slope). R-squared is between 0 and 1, and higher is better."
   ]
  },
  {
   "cell_type": "code",
   "execution_count": 120,
   "id": "092b6d41-90ef-4c01-b7e3-0423535d0a39",
   "metadata": {},
   "outputs": [
    {
     "data": {
      "text/plain": [
       "0.12508730481588126"
      ]
     },
     "execution_count": 120,
     "metadata": {},
     "output_type": "execute_result"
    }
   ],
   "source": [
    "# calculate the R-squared\n",
    "lm.score(X, y)"
   ]
  },
  {
   "cell_type": "markdown",
   "id": "8c644592-6bcc-41de-a794-74dfc30f57ff",
   "metadata": {},
   "source": [
    "We see from the output that $R^2$ = 0.125. This means that the model explains 12.5% of the variation in BMD. While this does not sound particularly high, in medical studies one often gets low R2. Bone mineral density is a complicated phys-\n",
    "iological phenomenon, and it is not surprising that BMI and age only explain a fairly small proportion of the observed variation."
   ]
  },
  {
   "cell_type": "markdown",
   "id": "f6d66dbc-2407-4281-91ce-3ab5ab2c6cfa",
   "metadata": {},
   "source": [
    "### Diagnostic plots produced by the model"
   ]
  },
  {
   "cell_type": "code",
   "execution_count": 121,
   "id": "feb8f4b3-9729-4cf3-a046-c4c195c844c5",
   "metadata": {},
   "outputs": [
    {
     "data": {
      "image/png": "[encoded data removed]",
      "text/plain": [
       "<Figure size 432x288 with 1 Axes>"
      ]
     },
     "metadata": {
      "needs_background": "light"
     },
     "output_type": "display_data"
    },
    {
     "data": {
      "image/png": "[encoded data removed]",
      "text/plain": [
       "<Figure size 432x288 with 1 Axes>"
      ]
     },
     "metadata": {
      "needs_background": "light"
     },
     "output_type": "display_data"
    }
   ],
   "source": [
    "\n",
    "# calculate residuals\n",
    "y_pred = lm.predict(X)\n",
    "residuals = y - y_pred\n",
    "\n",
    "# plot residuals vs fitted\n",
    "plt.scatter(y_pred, residuals)\n",
    "plt.xlabel('Fitted values')\n",
    "plt.ylabel('Residuals')\n",
    "plt.show()\n",
    "\n",
    "# plot normal Q-Q plot\n",
    "stats.probplot(residuals, dist=\"norm\", plot=plt)\n",
    "plt.show()\n"
   ]
  },
  {
   "cell_type": "markdown",
   "id": "a481d1c9-1c93-438e-8021-e0bd2d9abdd6",
   "metadata": {},
   "source": [
    "The scatterplot of residuals against $\\hat{y_i}$ appears random, indicating conformity with the assumption of equal variance. The normal scores plot (bellow) indicates that the $\\epsilon_i$ are normally distributed."
   ]
  },
  {
   "cell_type": "markdown",
   "id": "b64bd681-f6d5-42e5-9c14-013b783b9364",
   "metadata": {},
   "source": [
    "## Conclusion"
   ]
  },
  {
   "cell_type": "markdown",
   "id": "202fe766-fe23-4a68-9cf1-aaff1d0e55d0",
   "metadata": {},
   "source": [
    "My experience with Python has shown that it shares many similarities with R, but with some differences in syntax. Despite these differences, I have found that my understanding of the underlying statistical concepts transfers well and has allowed me to quickly adapt to the new language. While it is recommended to use scikit-learn for linear regression, I found it necessary to employ statmodels in order to perform some specific functions for statistical modeling. :D"
   ]
  }
 ],
 "metadata": {
  "kernelspec": {
   "display_name": "Python 3 (ipykernel)",
   "language": "python",
   "name": "python3"
  },
  "language_info": {
   "codemirror_mode": {
    "name": "ipython",
    "version": 3
   },
   "file_extension": ".py",
   "mimetype": "text/x-python",
   "name": "python",
   "nbconvert_exporter": "python",
   "pygments_lexer": "ipython3",
   "version": "3.9.12"
  }
 },
 "nbformat": 4,
 "nbformat_minor": 5
}
